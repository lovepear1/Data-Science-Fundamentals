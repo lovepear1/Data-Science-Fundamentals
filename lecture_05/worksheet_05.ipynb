{
 "cells": [
  {
   "attachments": {},
   "cell_type": "markdown",
   "metadata": {},
   "source": [
    "# Worksheet 05\n",
    "\n",
    "Name:  Airi Hatori \n",
    "UID: U27594319\n",
    "\n",
    "### Topics\n",
    "\n",
    "- Cost Functions\n",
    "- Kmeans\n",
    "\n",
    "### Cost Function\n",
    "\n",
    "Solving Data Science problems often starts by defining a metric with which to evaluate solutions were you able to find some. This metric is called a cost function. Data Science then backtracks and tries to find a process / algorithm to find solutions that can optimize for that cost function.\n",
    "\n",
    "For example suppose you are asked to cluster three points A, B, C into two non-empty clusters. If someone gave you the solution `{A, B}, {C}`, how would you evaluate that this is a good solution?\n",
    "\n",
    "Notice that because the clusters need to be non-empty and all points must be assigned to a cluster, it must be that two of the three points will be together in one cluster and the third will be alone in the other cluster.\n",
    "\n",
    "In the above solution, if A and B are closer than A and C, and B and C, then this is a good solution. The smaller the distance between the two points in the same cluster (here A and B), the better the solution. So we can define our cost function to be that distance (between A and B here)!\n",
    "\n",
    "The algorithm / process would involve clustering together the two closest points and put the third in its own cluster. This process optimizes for that cost function because no other pair of points could have a lower distance (although it could equal it)."
   ]
  },
  {
   "cell_type": "markdown",
   "metadata": {},
   "source": [
    "### K means\n",
    "\n",
    "a) (1-dimensional clustering) Walk through Lloyd's algorithm step by step on the following dataset:\n",
    "\n",
    "`[0, .5, 1.5, 2, 6, 6.5, 7]` (note: each of these are 1-dimensional data points)\n",
    "\n",
    "Given the initial centroids:\n",
    "\n",
    "`[0, 2]`"
   ]
  },
  {
   "cell_type": "markdown",
   "metadata": {},
   "source": [
    "# [0, .5, 2] [6, 6.5, 7]\n",
    "# [0, .5] [2, 6, 6.5, 7]"
   ]
  },
  {
   "cell_type": "markdown",
   "metadata": {},
   "source": [
    "b) Describe in plain english what the cost function for k means is."
   ]
  },
  {
   "cell_type": "markdown",
   "metadata": {},
   "source": [
    "Cost function for k means the summation from k to i where x lives in more than 2 dimensions and mu i stands for the points. In addition d stands for the distance. "
   ]
  },
  {
   "cell_type": "markdown",
   "metadata": {},
   "source": [
    "c) For the same number of clusters K, why could there be very different solutions to the K means algorithm on a given dataset?"
   ]
  },
  {
   "cell_type": "markdown",
   "metadata": {},
   "source": [
    "when the value is flat. "
   ]
  },
  {
   "cell_type": "markdown",
   "metadata": {},
   "source": [
    "d) Does Lloyd's Algorithm always converge? Why / why not?"
   ]
  },
  {
   "cell_type": "markdown",
   "metadata": {},
   "source": [
    "Lloyd's algorithm always converges because the algroithm keeps decreasing the value of objective function. "
   ]
  },
  {
   "attachments": {},
   "cell_type": "markdown",
   "metadata": {},
   "source": [
    "e) Follow along in class the implementation of Kmeans"
   ]
  },
  {
   "cell_type": "code",
   "execution_count": 6,
   "metadata": {},
   "outputs": [
    {
     "ename": "TypeError",
     "evalue": "assign() takes 1 positional argument but 2 were given",
     "output_type": "error",
     "traceback": [
      "\u001b[0;31m---------------------------------------------------------------------------\u001b[0m",
      "\u001b[0;31mTypeError\u001b[0m                                 Traceback (most recent call last)",
      "\u001b[1;32m/Users/airihatori/Data-Science-Fundamentals/lecture_05/worksheet_05.ipynb Cell 11\u001b[0m line \u001b[0;36m<cell line: 53>\u001b[0;34m()\u001b[0m\n\u001b[1;32m     <a href='vscode-notebook-cell:/Users/airihatori/Data-Science-Fundamentals/lecture_05/worksheet_05.ipynb#X13sZmlsZQ%3D%3D?line=48'>49</a>\u001b[0m         \u001b[39mreturn\u001b[39;00m \n\u001b[1;32m     <a href='vscode-notebook-cell:/Users/airihatori/Data-Science-Fundamentals/lecture_05/worksheet_05.ipynb#X13sZmlsZQ%3D%3D?line=51'>52</a>\u001b[0m kmeans \u001b[39m=\u001b[39m KMeans(X, \u001b[39m6\u001b[39m)\n\u001b[0;32m---> <a href='vscode-notebook-cell:/Users/airihatori/Data-Science-Fundamentals/lecture_05/worksheet_05.ipynb#X13sZmlsZQ%3D%3D?line=52'>53</a>\u001b[0m kmeans\u001b[39m.\u001b[39;49mlloyds()\n\u001b[1;32m     <a href='vscode-notebook-cell:/Users/airihatori/Data-Science-Fundamentals/lecture_05/worksheet_05.ipynb#X13sZmlsZQ%3D%3D?line=53'>54</a>\u001b[0m images \u001b[39m=\u001b[39m kmeans\u001b[39m.\u001b[39msnaps\n\u001b[1;32m     <a href='vscode-notebook-cell:/Users/airihatori/Data-Science-Fundamentals/lecture_05/worksheet_05.ipynb#X13sZmlsZQ%3D%3D?line=55'>56</a>\u001b[0m images[\u001b[39m0\u001b[39m]\u001b[39m.\u001b[39msave(\n\u001b[1;32m     <a href='vscode-notebook-cell:/Users/airihatori/Data-Science-Fundamentals/lecture_05/worksheet_05.ipynb#X13sZmlsZQ%3D%3D?line=56'>57</a>\u001b[0m     \u001b[39m'\u001b[39m\u001b[39mkmeans.gif\u001b[39m\u001b[39m'\u001b[39m,\n\u001b[1;32m     <a href='vscode-notebook-cell:/Users/airihatori/Data-Science-Fundamentals/lecture_05/worksheet_05.ipynb#X13sZmlsZQ%3D%3D?line=57'>58</a>\u001b[0m     optimize\u001b[39m=\u001b[39m\u001b[39mFalse\u001b[39;00m,\n\u001b[0;32m   (...)\u001b[0m\n\u001b[1;32m     <a href='vscode-notebook-cell:/Users/airihatori/Data-Science-Fundamentals/lecture_05/worksheet_05.ipynb#X13sZmlsZQ%3D%3D?line=61'>62</a>\u001b[0m     duration\u001b[39m=\u001b[39m\u001b[39m500\u001b[39m\n\u001b[1;32m     <a href='vscode-notebook-cell:/Users/airihatori/Data-Science-Fundamentals/lecture_05/worksheet_05.ipynb#X13sZmlsZQ%3D%3D?line=62'>63</a>\u001b[0m )\n",
      "\u001b[1;32m/Users/airihatori/Data-Science-Fundamentals/lecture_05/worksheet_05.ipynb Cell 11\u001b[0m line \u001b[0;36mKMeans.lloyds\u001b[0;34m(self)\u001b[0m\n\u001b[1;32m     <a href='vscode-notebook-cell:/Users/airihatori/Data-Science-Fundamentals/lecture_05/worksheet_05.ipynb#X13sZmlsZQ%3D%3D?line=28'>29</a>\u001b[0m cecenters \u001b[39m=\u001b[39m \u001b[39mself\u001b[39m\u001b[39m.\u001b[39minitialize()\n\u001b[1;32m     <a href='vscode-notebook-cell:/Users/airihatori/Data-Science-Fundamentals/lecture_05/worksheet_05.ipynb#X13sZmlsZQ%3D%3D?line=29'>30</a>\u001b[0m \u001b[39m#assign points to the closest centroids \u001b[39;00m\n\u001b[0;32m---> <a href='vscode-notebook-cell:/Users/airihatori/Data-Science-Fundamentals/lecture_05/worksheet_05.ipynb#X13sZmlsZQ%3D%3D?line=30'>31</a>\u001b[0m \u001b[39mself\u001b[39;49m\u001b[39m.\u001b[39;49massign(centers)\n\u001b[1;32m     <a href='vscode-notebook-cell:/Users/airihatori/Data-Science-Fundamentals/lecture_05/worksheet_05.ipynb#X13sZmlsZQ%3D%3D?line=31'>32</a>\u001b[0m \u001b[39mself\u001b[39m\u001b[39m.\u001b[39msnap(centers)\n\u001b[1;32m     <a href='vscode-notebook-cell:/Users/airihatori/Data-Science-Fundamentals/lecture_05/worksheet_05.ipynb#X13sZmlsZQ%3D%3D?line=32'>33</a>\u001b[0m \u001b[39mwhile\u001b[39;00m \u001b[39mself\u001b[39m\u001b[39m.\u001b[39mis_diff_clusters():\n",
      "\u001b[0;31mTypeError\u001b[0m: assign() takes 1 positional argument but 2 were given"
     ]
    }
   ],
   "source": [
    "import numpy as np\n",
    "from PIL import Image as im\n",
    "import matplotlib.pyplot as plt\n",
    "import sklearn.datasets as datasets\n",
    "\n",
    "\n",
    "\n",
    "class KMeans():\n",
    "\n",
    "    def __init__(self, data, k):\n",
    "        self.data = data\n",
    "        self.k = k\n",
    "        self.assignment = [-1 for _ in range(len(data))]\n",
    "        self.snaps = []\n",
    "\n",
    "    def distance(self, x, y):\n",
    "        return np.linalg.norm(x - y)\n",
    "    \n",
    "    def snap(self, centers):\n",
    "        TEMPFILE = \"temp.png\"\n",
    "\n",
    "        fig, ax = plt.subplots()\n",
    "        ax.scatter(X[:, 0], X[:, 1], c=self.assignment)\n",
    "        ax.scatter(centers[:,0], centers[:, 1], c='r')\n",
    "        fig.savefig(TEMPFILE)\n",
    "        plt.close()\n",
    "        self.snaps.append(im.fromarray(np.asarray(im.open(TEMPFILE))))\n",
    "\n",
    "\n",
    "    def lloyds(self):\n",
    "        #first step: initialize the cnetroid \n",
    "        cecenters = self.initialize()\n",
    "        #assign points to the closest centroids \n",
    "        self.assign(centers)\n",
    "        self.snap(centers)\n",
    "        new_centers = self.get_centers()\n",
    "        while self.is_diff_clusters(centers, new_centers):\n",
    "            self.assign(new_centers)\n",
    "            centers = new_centers\n",
    "            self.snap(new_centers)\n",
    "            new_ceners = self.get_centers()\n",
    "        return\n",
    "   \n",
    "    def get_centors(self):\n",
    "        for i in set(self.assignment):\n",
    "            clusters = []\n",
    "            for j in range(len(self.data)):\n",
    "                if self.assignment[j] == i:\n",
    "                    clusters.append(self.data[j])\n",
    "                centers.append()\n",
    "        return\n",
    "\n",
    "\n",
    "\n",
    "\n",
    "    def is_diff_clusters(self, centers, new_centers):\n",
    "        for i in range(len(centers)):\n",
    "            if self.distance(centers[i], new_centers[i] != 0):\n",
    "                return True \n",
    "        return False \n",
    "   \n",
    "   \n",
    "    def initialize(self):\n",
    "        self.data[np.random.choice(range(len(self.data)), self.k, replace = False)]\n",
    "\n",
    "    def assign(self):\n",
    "        for i in range(len(self.data)):\n",
    "            minimum = self.distance (centers(0), self.data[i])\n",
    "            self.assignment = 0 \n",
    "            for j in range(len(centers)):\n",
    "                dist = self.distance(centers[j], self.data[i])\n",
    "                if dist < minimum:\n",
    "                    minimum = dist \n",
    "                    self.assignment[i] = j \n",
    "        return \n",
    "\n",
    "\n",
    "kmeans = KMeans(X, 6)\n",
    "kmeans.lloyds()\n",
    "images = kmeans.snaps\n",
    "\n",
    "images[0].save(\n",
    "    'kmeans.gif',\n",
    "    optimize=False,\n",
    "    save_all=True,\n",
    "    append_images=images[1:],\n",
    "    loop=0,\n",
    "    duration=500\n",
    ")\n",
    "\n",
    "centers = [[0, 0], [2, 2], [-3, 2], [2, -4]]\n",
    "X, _ = datasets.make_blobs(n_samples=300, centers=centers, cluster_std=1, random_state=0)"
   ]
  },
  {
   "cell_type": "code",
   "execution_count": null,
   "metadata": {},
   "outputs": [],
   "source": []
  }
 ],
 "metadata": {
  "kernelspec": {
   "display_name": "Python 3",
   "language": "python",
   "name": "python3"
  },
  "language_info": {
   "codemirror_mode": {
    "name": "ipython",
    "version": 3
   },
   "file_extension": ".py",
   "mimetype": "text/x-python",
   "name": "python",
   "nbconvert_exporter": "python",
   "pygments_lexer": "ipython3",
   "version": "3.9.12"
  },
  "orig_nbformat": 4,
  "vscode": {
   "interpreter": {
    "hash": "76ca05dc3ea24b2e3b98cdb7774adfbb40773424bf5109b477fd793f623715af"
   }
  }
 },
 "nbformat": 4,
 "nbformat_minor": 2
}
